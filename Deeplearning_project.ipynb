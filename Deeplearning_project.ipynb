{
  "nbformat": 4,
  "nbformat_minor": 0,
  "metadata": {
    "colab": {
      "provenance": []
    },
    "kernelspec": {
      "name": "python3",
      "display_name": "Python 3"
    },
    "language_info": {
      "name": "python"
    }
  },
  "cells": [
    {
      "cell_type": "code",
      "execution_count": 2,
      "metadata": {
        "id": "6XD9oJDVtaLT"
      },
      "outputs": [],
      "source": [
        "import pandas as pd\n",
        "import numpy as np\n",
        "import os\n",
        "import IPython.display as ipd\n",
        "import librosa\n",
        "import librosa.display\n",
        "import matplotlib.pyplot as plt\n",
        "%matplotlib inline"
      ]
    },
    {
      "cell_type": "code",
      "source": [
        "from google.colab import drive\n",
        "drive.mount('/content/drive')"
      ],
      "metadata": {
        "colab": {
          "base_uri": "https://localhost:8080/"
        },
        "id": "gi3SYifQvSqV",
        "outputId": "063ee627-451a-4eec-e73f-9d04a06f9839"
      },
      "execution_count": 1,
      "outputs": [
        {
          "output_type": "stream",
          "name": "stdout",
          "text": [
            "Mounted at /content/drive\n"
          ]
        }
      ]
    },
    {
      "cell_type": "code",
      "source": [
        "audio_dataset_path='/content/drive/MyDrive/archive/Data/genres_original'"
      ],
      "metadata": {
        "id": "LAvNBSwVul-K"
      },
      "execution_count": 3,
      "outputs": []
    },
    {
      "cell_type": "code",
      "source": [
        "metadata=pd.read_csv('/content/drive/MyDrive/archive/Data/features_30_sec.csv')"
      ],
      "metadata": {
        "id": "V9tmdEETFS8m"
      },
      "execution_count": 4,
      "outputs": []
    },
    {
      "cell_type": "code",
      "source": [
        "metadata.head()"
      ],
      "metadata": {
        "colab": {
          "base_uri": "https://localhost:8080/",
          "height": 255
        },
        "id": "vuvT4uVOFwIu",
        "outputId": "064d86cc-44fe-4f7d-a3c1-8606dc6c4785"
      },
      "execution_count": 5,
      "outputs": [
        {
          "output_type": "execute_result",
          "data": {
            "text/plain": [
              "          filename  length  chroma_stft_mean  chroma_stft_var  rms_mean  \\\n",
              "0  blues.00000.wav  661794          0.350088         0.088757  0.130228   \n",
              "1  blues.00001.wav  661794          0.340914         0.094980  0.095948   \n",
              "2  blues.00002.wav  661794          0.363637         0.085275  0.175570   \n",
              "3  blues.00003.wav  661794          0.404785         0.093999  0.141093   \n",
              "4  blues.00004.wav  661794          0.308526         0.087841  0.091529   \n",
              "\n",
              "    rms_var  spectral_centroid_mean  spectral_centroid_var  \\\n",
              "0  0.002827             1784.165850          129774.064525   \n",
              "1  0.002373             1530.176679          375850.073649   \n",
              "2  0.002746             1552.811865          156467.643368   \n",
              "3  0.006346             1070.106615          184355.942417   \n",
              "4  0.002303             1835.004266          343399.939274   \n",
              "\n",
              "   spectral_bandwidth_mean  spectral_bandwidth_var  ...  mfcc16_var  \\\n",
              "0              2002.449060            85882.761315  ...   52.420910   \n",
              "1              2039.036516           213843.755497  ...   55.356403   \n",
              "2              1747.702312            76254.192257  ...   40.598766   \n",
              "3              1596.412872           166441.494769  ...   44.427753   \n",
              "4              1748.172116            88445.209036  ...   86.099236   \n",
              "\n",
              "   mfcc17_mean  mfcc17_var  mfcc18_mean  mfcc18_var  mfcc19_mean  mfcc19_var  \\\n",
              "0    -1.690215   36.524071    -0.408979   41.597103    -2.303523   55.062923   \n",
              "1    -0.731125   60.314529     0.295073   48.120598    -0.283518   51.106190   \n",
              "2    -7.729093   47.639427    -1.816407   52.382141    -3.439720   46.639660   \n",
              "3    -3.319597   50.206673     0.636965   37.319130    -0.619121   37.259739   \n",
              "4    -5.454034   75.269707    -0.916874   53.613918    -4.404827   62.910812   \n",
              "\n",
              "   mfcc20_mean  mfcc20_var  label  \n",
              "0     1.221291   46.936035  blues  \n",
              "1     0.531217   45.786282  blues  \n",
              "2    -2.231258   30.573025  blues  \n",
              "3    -3.407448   31.949339  blues  \n",
              "4   -11.703234   55.195160  blues  \n",
              "\n",
              "[5 rows x 60 columns]"
            ],
            "text/html": [
              "\n",
              "  <div id=\"df-10712d62-0e83-45fb-a762-ed71c8212f72\" class=\"colab-df-container\">\n",
              "    <div>\n",
              "<style scoped>\n",
              "    .dataframe tbody tr th:only-of-type {\n",
              "        vertical-align: middle;\n",
              "    }\n",
              "\n",
              "    .dataframe tbody tr th {\n",
              "        vertical-align: top;\n",
              "    }\n",
              "\n",
              "    .dataframe thead th {\n",
              "        text-align: right;\n",
              "    }\n",
              "</style>\n",
              "<table border=\"1\" class=\"dataframe\">\n",
              "  <thead>\n",
              "    <tr style=\"text-align: right;\">\n",
              "      <th></th>\n",
              "      <th>filename</th>\n",
              "      <th>length</th>\n",
              "      <th>chroma_stft_mean</th>\n",
              "      <th>chroma_stft_var</th>\n",
              "      <th>rms_mean</th>\n",
              "      <th>rms_var</th>\n",
              "      <th>spectral_centroid_mean</th>\n",
              "      <th>spectral_centroid_var</th>\n",
              "      <th>spectral_bandwidth_mean</th>\n",
              "      <th>spectral_bandwidth_var</th>\n",
              "      <th>...</th>\n",
              "      <th>mfcc16_var</th>\n",
              "      <th>mfcc17_mean</th>\n",
              "      <th>mfcc17_var</th>\n",
              "      <th>mfcc18_mean</th>\n",
              "      <th>mfcc18_var</th>\n",
              "      <th>mfcc19_mean</th>\n",
              "      <th>mfcc19_var</th>\n",
              "      <th>mfcc20_mean</th>\n",
              "      <th>mfcc20_var</th>\n",
              "      <th>label</th>\n",
              "    </tr>\n",
              "  </thead>\n",
              "  <tbody>\n",
              "    <tr>\n",
              "      <th>0</th>\n",
              "      <td>blues.00000.wav</td>\n",
              "      <td>661794</td>\n",
              "      <td>0.350088</td>\n",
              "      <td>0.088757</td>\n",
              "      <td>0.130228</td>\n",
              "      <td>0.002827</td>\n",
              "      <td>1784.165850</td>\n",
              "      <td>129774.064525</td>\n",
              "      <td>2002.449060</td>\n",
              "      <td>85882.761315</td>\n",
              "      <td>...</td>\n",
              "      <td>52.420910</td>\n",
              "      <td>-1.690215</td>\n",
              "      <td>36.524071</td>\n",
              "      <td>-0.408979</td>\n",
              "      <td>41.597103</td>\n",
              "      <td>-2.303523</td>\n",
              "      <td>55.062923</td>\n",
              "      <td>1.221291</td>\n",
              "      <td>46.936035</td>\n",
              "      <td>blues</td>\n",
              "    </tr>\n",
              "    <tr>\n",
              "      <th>1</th>\n",
              "      <td>blues.00001.wav</td>\n",
              "      <td>661794</td>\n",
              "      <td>0.340914</td>\n",
              "      <td>0.094980</td>\n",
              "      <td>0.095948</td>\n",
              "      <td>0.002373</td>\n",
              "      <td>1530.176679</td>\n",
              "      <td>375850.073649</td>\n",
              "      <td>2039.036516</td>\n",
              "      <td>213843.755497</td>\n",
              "      <td>...</td>\n",
              "      <td>55.356403</td>\n",
              "      <td>-0.731125</td>\n",
              "      <td>60.314529</td>\n",
              "      <td>0.295073</td>\n",
              "      <td>48.120598</td>\n",
              "      <td>-0.283518</td>\n",
              "      <td>51.106190</td>\n",
              "      <td>0.531217</td>\n",
              "      <td>45.786282</td>\n",
              "      <td>blues</td>\n",
              "    </tr>\n",
              "    <tr>\n",
              "      <th>2</th>\n",
              "      <td>blues.00002.wav</td>\n",
              "      <td>661794</td>\n",
              "      <td>0.363637</td>\n",
              "      <td>0.085275</td>\n",
              "      <td>0.175570</td>\n",
              "      <td>0.002746</td>\n",
              "      <td>1552.811865</td>\n",
              "      <td>156467.643368</td>\n",
              "      <td>1747.702312</td>\n",
              "      <td>76254.192257</td>\n",
              "      <td>...</td>\n",
              "      <td>40.598766</td>\n",
              "      <td>-7.729093</td>\n",
              "      <td>47.639427</td>\n",
              "      <td>-1.816407</td>\n",
              "      <td>52.382141</td>\n",
              "      <td>-3.439720</td>\n",
              "      <td>46.639660</td>\n",
              "      <td>-2.231258</td>\n",
              "      <td>30.573025</td>\n",
              "      <td>blues</td>\n",
              "    </tr>\n",
              "    <tr>\n",
              "      <th>3</th>\n",
              "      <td>blues.00003.wav</td>\n",
              "      <td>661794</td>\n",
              "      <td>0.404785</td>\n",
              "      <td>0.093999</td>\n",
              "      <td>0.141093</td>\n",
              "      <td>0.006346</td>\n",
              "      <td>1070.106615</td>\n",
              "      <td>184355.942417</td>\n",
              "      <td>1596.412872</td>\n",
              "      <td>166441.494769</td>\n",
              "      <td>...</td>\n",
              "      <td>44.427753</td>\n",
              "      <td>-3.319597</td>\n",
              "      <td>50.206673</td>\n",
              "      <td>0.636965</td>\n",
              "      <td>37.319130</td>\n",
              "      <td>-0.619121</td>\n",
              "      <td>37.259739</td>\n",
              "      <td>-3.407448</td>\n",
              "      <td>31.949339</td>\n",
              "      <td>blues</td>\n",
              "    </tr>\n",
              "    <tr>\n",
              "      <th>4</th>\n",
              "      <td>blues.00004.wav</td>\n",
              "      <td>661794</td>\n",
              "      <td>0.308526</td>\n",
              "      <td>0.087841</td>\n",
              "      <td>0.091529</td>\n",
              "      <td>0.002303</td>\n",
              "      <td>1835.004266</td>\n",
              "      <td>343399.939274</td>\n",
              "      <td>1748.172116</td>\n",
              "      <td>88445.209036</td>\n",
              "      <td>...</td>\n",
              "      <td>86.099236</td>\n",
              "      <td>-5.454034</td>\n",
              "      <td>75.269707</td>\n",
              "      <td>-0.916874</td>\n",
              "      <td>53.613918</td>\n",
              "      <td>-4.404827</td>\n",
              "      <td>62.910812</td>\n",
              "      <td>-11.703234</td>\n",
              "      <td>55.195160</td>\n",
              "      <td>blues</td>\n",
              "    </tr>\n",
              "  </tbody>\n",
              "</table>\n",
              "<p>5 rows × 60 columns</p>\n",
              "</div>\n",
              "    <div class=\"colab-df-buttons\">\n",
              "\n",
              "  <div class=\"colab-df-container\">\n",
              "    <button class=\"colab-df-convert\" onclick=\"convertToInteractive('df-10712d62-0e83-45fb-a762-ed71c8212f72')\"\n",
              "            title=\"Convert this dataframe to an interactive table.\"\n",
              "            style=\"display:none;\">\n",
              "\n",
              "  <svg xmlns=\"http://www.w3.org/2000/svg\" height=\"24px\" viewBox=\"0 -960 960 960\">\n",
              "    <path d=\"M120-120v-720h720v720H120Zm60-500h600v-160H180v160Zm220 220h160v-160H400v160Zm0 220h160v-160H400v160ZM180-400h160v-160H180v160Zm440 0h160v-160H620v160ZM180-180h160v-160H180v160Zm440 0h160v-160H620v160Z\"/>\n",
              "  </svg>\n",
              "    </button>\n",
              "\n",
              "  <style>\n",
              "    .colab-df-container {\n",
              "      display:flex;\n",
              "      gap: 12px;\n",
              "    }\n",
              "\n",
              "    .colab-df-convert {\n",
              "      background-color: #E8F0FE;\n",
              "      border: none;\n",
              "      border-radius: 50%;\n",
              "      cursor: pointer;\n",
              "      display: none;\n",
              "      fill: #1967D2;\n",
              "      height: 32px;\n",
              "      padding: 0 0 0 0;\n",
              "      width: 32px;\n",
              "    }\n",
              "\n",
              "    .colab-df-convert:hover {\n",
              "      background-color: #E2EBFA;\n",
              "      box-shadow: 0px 1px 2px rgba(60, 64, 67, 0.3), 0px 1px 3px 1px rgba(60, 64, 67, 0.15);\n",
              "      fill: #174EA6;\n",
              "    }\n",
              "\n",
              "    .colab-df-buttons div {\n",
              "      margin-bottom: 4px;\n",
              "    }\n",
              "\n",
              "    [theme=dark] .colab-df-convert {\n",
              "      background-color: #3B4455;\n",
              "      fill: #D2E3FC;\n",
              "    }\n",
              "\n",
              "    [theme=dark] .colab-df-convert:hover {\n",
              "      background-color: #434B5C;\n",
              "      box-shadow: 0px 1px 3px 1px rgba(0, 0, 0, 0.15);\n",
              "      filter: drop-shadow(0px 1px 2px rgba(0, 0, 0, 0.3));\n",
              "      fill: #FFFFFF;\n",
              "    }\n",
              "  </style>\n",
              "\n",
              "    <script>\n",
              "      const buttonEl =\n",
              "        document.querySelector('#df-10712d62-0e83-45fb-a762-ed71c8212f72 button.colab-df-convert');\n",
              "      buttonEl.style.display =\n",
              "        google.colab.kernel.accessAllowed ? 'block' : 'none';\n",
              "\n",
              "      async function convertToInteractive(key) {\n",
              "        const element = document.querySelector('#df-10712d62-0e83-45fb-a762-ed71c8212f72');\n",
              "        const dataTable =\n",
              "          await google.colab.kernel.invokeFunction('convertToInteractive',\n",
              "                                                    [key], {});\n",
              "        if (!dataTable) return;\n",
              "\n",
              "        const docLinkHtml = 'Like what you see? Visit the ' +\n",
              "          '<a target=\"_blank\" href=https://colab.research.google.com/notebooks/data_table.ipynb>data table notebook</a>'\n",
              "          + ' to learn more about interactive tables.';\n",
              "        element.innerHTML = '';\n",
              "        dataTable['output_type'] = 'display_data';\n",
              "        await google.colab.output.renderOutput(dataTable, element);\n",
              "        const docLink = document.createElement('div');\n",
              "        docLink.innerHTML = docLinkHtml;\n",
              "        element.appendChild(docLink);\n",
              "      }\n",
              "    </script>\n",
              "  </div>\n",
              "\n",
              "\n",
              "<div id=\"df-95073423-47df-4be7-8d80-ab98366ad7ec\">\n",
              "  <button class=\"colab-df-quickchart\" onclick=\"quickchart('df-95073423-47df-4be7-8d80-ab98366ad7ec')\"\n",
              "            title=\"Suggest charts\"\n",
              "            style=\"display:none;\">\n",
              "\n",
              "<svg xmlns=\"http://www.w3.org/2000/svg\" height=\"24px\"viewBox=\"0 0 24 24\"\n",
              "     width=\"24px\">\n",
              "    <g>\n",
              "        <path d=\"M19 3H5c-1.1 0-2 .9-2 2v14c0 1.1.9 2 2 2h14c1.1 0 2-.9 2-2V5c0-1.1-.9-2-2-2zM9 17H7v-7h2v7zm4 0h-2V7h2v10zm4 0h-2v-4h2v4z\"/>\n",
              "    </g>\n",
              "</svg>\n",
              "  </button>\n",
              "\n",
              "<style>\n",
              "  .colab-df-quickchart {\n",
              "      --bg-color: #E8F0FE;\n",
              "      --fill-color: #1967D2;\n",
              "      --hover-bg-color: #E2EBFA;\n",
              "      --hover-fill-color: #174EA6;\n",
              "      --disabled-fill-color: #AAA;\n",
              "      --disabled-bg-color: #DDD;\n",
              "  }\n",
              "\n",
              "  [theme=dark] .colab-df-quickchart {\n",
              "      --bg-color: #3B4455;\n",
              "      --fill-color: #D2E3FC;\n",
              "      --hover-bg-color: #434B5C;\n",
              "      --hover-fill-color: #FFFFFF;\n",
              "      --disabled-bg-color: #3B4455;\n",
              "      --disabled-fill-color: #666;\n",
              "  }\n",
              "\n",
              "  .colab-df-quickchart {\n",
              "    background-color: var(--bg-color);\n",
              "    border: none;\n",
              "    border-radius: 50%;\n",
              "    cursor: pointer;\n",
              "    display: none;\n",
              "    fill: var(--fill-color);\n",
              "    height: 32px;\n",
              "    padding: 0;\n",
              "    width: 32px;\n",
              "  }\n",
              "\n",
              "  .colab-df-quickchart:hover {\n",
              "    background-color: var(--hover-bg-color);\n",
              "    box-shadow: 0 1px 2px rgba(60, 64, 67, 0.3), 0 1px 3px 1px rgba(60, 64, 67, 0.15);\n",
              "    fill: var(--button-hover-fill-color);\n",
              "  }\n",
              "\n",
              "  .colab-df-quickchart-complete:disabled,\n",
              "  .colab-df-quickchart-complete:disabled:hover {\n",
              "    background-color: var(--disabled-bg-color);\n",
              "    fill: var(--disabled-fill-color);\n",
              "    box-shadow: none;\n",
              "  }\n",
              "\n",
              "  .colab-df-spinner {\n",
              "    border: 2px solid var(--fill-color);\n",
              "    border-color: transparent;\n",
              "    border-bottom-color: var(--fill-color);\n",
              "    animation:\n",
              "      spin 1s steps(1) infinite;\n",
              "  }\n",
              "\n",
              "  @keyframes spin {\n",
              "    0% {\n",
              "      border-color: transparent;\n",
              "      border-bottom-color: var(--fill-color);\n",
              "      border-left-color: var(--fill-color);\n",
              "    }\n",
              "    20% {\n",
              "      border-color: transparent;\n",
              "      border-left-color: var(--fill-color);\n",
              "      border-top-color: var(--fill-color);\n",
              "    }\n",
              "    30% {\n",
              "      border-color: transparent;\n",
              "      border-left-color: var(--fill-color);\n",
              "      border-top-color: var(--fill-color);\n",
              "      border-right-color: var(--fill-color);\n",
              "    }\n",
              "    40% {\n",
              "      border-color: transparent;\n",
              "      border-right-color: var(--fill-color);\n",
              "      border-top-color: var(--fill-color);\n",
              "    }\n",
              "    60% {\n",
              "      border-color: transparent;\n",
              "      border-right-color: var(--fill-color);\n",
              "    }\n",
              "    80% {\n",
              "      border-color: transparent;\n",
              "      border-right-color: var(--fill-color);\n",
              "      border-bottom-color: var(--fill-color);\n",
              "    }\n",
              "    90% {\n",
              "      border-color: transparent;\n",
              "      border-bottom-color: var(--fill-color);\n",
              "    }\n",
              "  }\n",
              "</style>\n",
              "\n",
              "  <script>\n",
              "    async function quickchart(key) {\n",
              "      const quickchartButtonEl =\n",
              "        document.querySelector('#' + key + ' button');\n",
              "      quickchartButtonEl.disabled = true;  // To prevent multiple clicks.\n",
              "      quickchartButtonEl.classList.add('colab-df-spinner');\n",
              "      try {\n",
              "        const charts = await google.colab.kernel.invokeFunction(\n",
              "            'suggestCharts', [key], {});\n",
              "      } catch (error) {\n",
              "        console.error('Error during call to suggestCharts:', error);\n",
              "      }\n",
              "      quickchartButtonEl.classList.remove('colab-df-spinner');\n",
              "      quickchartButtonEl.classList.add('colab-df-quickchart-complete');\n",
              "    }\n",
              "    (() => {\n",
              "      let quickchartButtonEl =\n",
              "        document.querySelector('#df-95073423-47df-4be7-8d80-ab98366ad7ec button');\n",
              "      quickchartButtonEl.style.display =\n",
              "        google.colab.kernel.accessAllowed ? 'block' : 'none';\n",
              "    })();\n",
              "  </script>\n",
              "</div>\n",
              "\n",
              "    </div>\n",
              "  </div>\n"
            ],
            "application/vnd.google.colaboratory.intrinsic+json": {
              "type": "dataframe",
              "variable_name": "metadata"
            }
          },
          "metadata": {},
          "execution_count": 5
        }
      ]
    },
    {
      "cell_type": "markdown",
      "source": [
        "Feature Extractor Function\n",
        "Feature Extractor Function\n",
        "\n",
        "Mel Frequency Cepstral Coefficients:\n",
        "\n",
        "These are state-of-the-art features used in automatic speech and speech recognition studies. There are a set of steps for generation of these\n",
        "\n",
        "features:\n",
        "\n",
        "Since the audio signals are constantly changing, first we divide these signals into smaller frames. Each frame is around 20-40 ms long Then we try to identify different frequencies present in each frame Now, separate linguistic frequencies from the noise To discard the noise, it then takes discrete cosine transform (DCT) of these frequencies. Using DCT we keep only a specific sequence of frequencies that have a high probability of information."
      ],
      "metadata": {
        "id": "QJCAOGyiF5jh"
      }
    },
    {
      "cell_type": "code",
      "source": [
        "def features_extractor(file):\n",
        "  audio,sample_rate=librosa.load(file_name, res_type='kaiser_fast')\n",
        "  mfccs_features=librosa.feature.mfcc(y=audio, sr=sample_rate, n_mfcc=40)\n",
        "  mfccs_scaled_features=np.mean(mfccs_features.T, axis=0)\n",
        "\n",
        "  return mfccs_scaled_features"
      ],
      "metadata": {
        "id": "3wj0GAS1F3Bu"
      },
      "execution_count": 6,
      "outputs": []
    },
    {
      "cell_type": "code",
      "source": [
        "metadata.drop(labels=552, axis=0, inplace=True)"
      ],
      "metadata": {
        "id": "r6dxHb_hHB4B"
      },
      "execution_count": 7,
      "outputs": []
    },
    {
      "cell_type": "code",
      "source": [
        "#Now we iterate through every audio File and extract features\n",
        "#using Mel-frequency cepstral coefficients\n",
        "\n",
        "from tqdm import tqdm\n",
        "extracted_features=[]\n",
        "for index_num,row in tqdm(metadata.iterrows()):\n",
        "  try:\n",
        "    final_class_labels=row[\"label\"]\n",
        "    file_name=os.path.join(os.path.abspath(audio_dataset_path),final_class_labels+'/',str(row[\"filename\"]))\n",
        "    data=features_extractor(file_name)\n",
        "    extracted_features.append([data, final_class_labels])\n",
        "  except Exception as e:\n",
        "    print(f\"Error: {e}\")\n",
        "    continue"
      ],
      "metadata": {
        "colab": {
          "base_uri": "https://localhost:8080/"
        },
        "id": "RdyrxHNKHIaa",
        "outputId": "bbccf80b-5362-4135-b033-1e6476b2365b"
      },
      "execution_count": null,
      "outputs": [
        {
          "output_type": "stream",
          "name": "stderr",
          "text": [
            "479it [07:10,  1.52it/s]"
          ]
        }
      ]
    },
    {
      "cell_type": "code",
      "source": [
        "#converting extracted_features to pandasframe\n",
        "extracted_features_df=pd.DataFrame(extracted_features,columns=['feature','class'])\n",
        "extracted_features_df.head()"
      ],
      "metadata": {
        "colab": {
          "base_uri": "https://localhost:8080/",
          "height": 206
        },
        "id": "cdv4bnQxI5fg",
        "outputId": "339c6e97-f323-41a0-f997-583ad66737ab"
      },
      "execution_count": null,
      "outputs": [
        {
          "output_type": "execute_result",
          "data": {
            "text/plain": [
              "                                             feature  class\n",
              "0  [-113.59882, 121.57067, -19.162262, 42.36394, ...  blues\n",
              "1  [-207.52383, 123.98514, 8.947019, 35.86715, 2....  blues\n",
              "2  [-90.757164, 140.44087, -29.084547, 31.686693,...  blues\n",
              "3  [-199.57513, 150.0861, 5.663404, 26.855282, 1....  blues\n",
              "4  [-160.35417, 126.20948, -35.581394, 22.139256,...  blues"
            ],
            "text/html": [
              "\n",
              "  <div id=\"df-b4818c25-6528-49a0-8406-438441c75d34\" class=\"colab-df-container\">\n",
              "    <div>\n",
              "<style scoped>\n",
              "    .dataframe tbody tr th:only-of-type {\n",
              "        vertical-align: middle;\n",
              "    }\n",
              "\n",
              "    .dataframe tbody tr th {\n",
              "        vertical-align: top;\n",
              "    }\n",
              "\n",
              "    .dataframe thead th {\n",
              "        text-align: right;\n",
              "    }\n",
              "</style>\n",
              "<table border=\"1\" class=\"dataframe\">\n",
              "  <thead>\n",
              "    <tr style=\"text-align: right;\">\n",
              "      <th></th>\n",
              "      <th>feature</th>\n",
              "      <th>class</th>\n",
              "    </tr>\n",
              "  </thead>\n",
              "  <tbody>\n",
              "    <tr>\n",
              "      <th>0</th>\n",
              "      <td>[-113.59882, 121.57067, -19.162262, 42.36394, ...</td>\n",
              "      <td>blues</td>\n",
              "    </tr>\n",
              "    <tr>\n",
              "      <th>1</th>\n",
              "      <td>[-207.52383, 123.98514, 8.947019, 35.86715, 2....</td>\n",
              "      <td>blues</td>\n",
              "    </tr>\n",
              "    <tr>\n",
              "      <th>2</th>\n",
              "      <td>[-90.757164, 140.44087, -29.084547, 31.686693,...</td>\n",
              "      <td>blues</td>\n",
              "    </tr>\n",
              "    <tr>\n",
              "      <th>3</th>\n",
              "      <td>[-199.57513, 150.0861, 5.663404, 26.855282, 1....</td>\n",
              "      <td>blues</td>\n",
              "    </tr>\n",
              "    <tr>\n",
              "      <th>4</th>\n",
              "      <td>[-160.35417, 126.20948, -35.581394, 22.139256,...</td>\n",
              "      <td>blues</td>\n",
              "    </tr>\n",
              "  </tbody>\n",
              "</table>\n",
              "</div>\n",
              "    <div class=\"colab-df-buttons\">\n",
              "\n",
              "  <div class=\"colab-df-container\">\n",
              "    <button class=\"colab-df-convert\" onclick=\"convertToInteractive('df-b4818c25-6528-49a0-8406-438441c75d34')\"\n",
              "            title=\"Convert this dataframe to an interactive table.\"\n",
              "            style=\"display:none;\">\n",
              "\n",
              "  <svg xmlns=\"http://www.w3.org/2000/svg\" height=\"24px\" viewBox=\"0 -960 960 960\">\n",
              "    <path d=\"M120-120v-720h720v720H120Zm60-500h600v-160H180v160Zm220 220h160v-160H400v160Zm0 220h160v-160H400v160ZM180-400h160v-160H180v160Zm440 0h160v-160H620v160ZM180-180h160v-160H180v160Zm440 0h160v-160H620v160Z\"/>\n",
              "  </svg>\n",
              "    </button>\n",
              "\n",
              "  <style>\n",
              "    .colab-df-container {\n",
              "      display:flex;\n",
              "      gap: 12px;\n",
              "    }\n",
              "\n",
              "    .colab-df-convert {\n",
              "      background-color: #E8F0FE;\n",
              "      border: none;\n",
              "      border-radius: 50%;\n",
              "      cursor: pointer;\n",
              "      display: none;\n",
              "      fill: #1967D2;\n",
              "      height: 32px;\n",
              "      padding: 0 0 0 0;\n",
              "      width: 32px;\n",
              "    }\n",
              "\n",
              "    .colab-df-convert:hover {\n",
              "      background-color: #E2EBFA;\n",
              "      box-shadow: 0px 1px 2px rgba(60, 64, 67, 0.3), 0px 1px 3px 1px rgba(60, 64, 67, 0.15);\n",
              "      fill: #174EA6;\n",
              "    }\n",
              "\n",
              "    .colab-df-buttons div {\n",
              "      margin-bottom: 4px;\n",
              "    }\n",
              "\n",
              "    [theme=dark] .colab-df-convert {\n",
              "      background-color: #3B4455;\n",
              "      fill: #D2E3FC;\n",
              "    }\n",
              "\n",
              "    [theme=dark] .colab-df-convert:hover {\n",
              "      background-color: #434B5C;\n",
              "      box-shadow: 0px 1px 3px 1px rgba(0, 0, 0, 0.15);\n",
              "      filter: drop-shadow(0px 1px 2px rgba(0, 0, 0, 0.3));\n",
              "      fill: #FFFFFF;\n",
              "    }\n",
              "  </style>\n",
              "\n",
              "    <script>\n",
              "      const buttonEl =\n",
              "        document.querySelector('#df-b4818c25-6528-49a0-8406-438441c75d34 button.colab-df-convert');\n",
              "      buttonEl.style.display =\n",
              "        google.colab.kernel.accessAllowed ? 'block' : 'none';\n",
              "\n",
              "      async function convertToInteractive(key) {\n",
              "        const element = document.querySelector('#df-b4818c25-6528-49a0-8406-438441c75d34');\n",
              "        const dataTable =\n",
              "          await google.colab.kernel.invokeFunction('convertToInteractive',\n",
              "                                                    [key], {});\n",
              "        if (!dataTable) return;\n",
              "\n",
              "        const docLinkHtml = 'Like what you see? Visit the ' +\n",
              "          '<a target=\"_blank\" href=https://colab.research.google.com/notebooks/data_table.ipynb>data table notebook</a>'\n",
              "          + ' to learn more about interactive tables.';\n",
              "        element.innerHTML = '';\n",
              "        dataTable['output_type'] = 'display_data';\n",
              "        await google.colab.output.renderOutput(dataTable, element);\n",
              "        const docLink = document.createElement('div');\n",
              "        docLink.innerHTML = docLinkHtml;\n",
              "        element.appendChild(docLink);\n",
              "      }\n",
              "    </script>\n",
              "  </div>\n",
              "\n",
              "\n",
              "<div id=\"df-a8e05d81-4bac-4c41-b934-f5d2937d6872\">\n",
              "  <button class=\"colab-df-quickchart\" onclick=\"quickchart('df-a8e05d81-4bac-4c41-b934-f5d2937d6872')\"\n",
              "            title=\"Suggest charts\"\n",
              "            style=\"display:none;\">\n",
              "\n",
              "<svg xmlns=\"http://www.w3.org/2000/svg\" height=\"24px\"viewBox=\"0 0 24 24\"\n",
              "     width=\"24px\">\n",
              "    <g>\n",
              "        <path d=\"M19 3H5c-1.1 0-2 .9-2 2v14c0 1.1.9 2 2 2h14c1.1 0 2-.9 2-2V5c0-1.1-.9-2-2-2zM9 17H7v-7h2v7zm4 0h-2V7h2v10zm4 0h-2v-4h2v4z\"/>\n",
              "    </g>\n",
              "</svg>\n",
              "  </button>\n",
              "\n",
              "<style>\n",
              "  .colab-df-quickchart {\n",
              "      --bg-color: #E8F0FE;\n",
              "      --fill-color: #1967D2;\n",
              "      --hover-bg-color: #E2EBFA;\n",
              "      --hover-fill-color: #174EA6;\n",
              "      --disabled-fill-color: #AAA;\n",
              "      --disabled-bg-color: #DDD;\n",
              "  }\n",
              "\n",
              "  [theme=dark] .colab-df-quickchart {\n",
              "      --bg-color: #3B4455;\n",
              "      --fill-color: #D2E3FC;\n",
              "      --hover-bg-color: #434B5C;\n",
              "      --hover-fill-color: #FFFFFF;\n",
              "      --disabled-bg-color: #3B4455;\n",
              "      --disabled-fill-color: #666;\n",
              "  }\n",
              "\n",
              "  .colab-df-quickchart {\n",
              "    background-color: var(--bg-color);\n",
              "    border: none;\n",
              "    border-radius: 50%;\n",
              "    cursor: pointer;\n",
              "    display: none;\n",
              "    fill: var(--fill-color);\n",
              "    height: 32px;\n",
              "    padding: 0;\n",
              "    width: 32px;\n",
              "  }\n",
              "\n",
              "  .colab-df-quickchart:hover {\n",
              "    background-color: var(--hover-bg-color);\n",
              "    box-shadow: 0 1px 2px rgba(60, 64, 67, 0.3), 0 1px 3px 1px rgba(60, 64, 67, 0.15);\n",
              "    fill: var(--button-hover-fill-color);\n",
              "  }\n",
              "\n",
              "  .colab-df-quickchart-complete:disabled,\n",
              "  .colab-df-quickchart-complete:disabled:hover {\n",
              "    background-color: var(--disabled-bg-color);\n",
              "    fill: var(--disabled-fill-color);\n",
              "    box-shadow: none;\n",
              "  }\n",
              "\n",
              "  .colab-df-spinner {\n",
              "    border: 2px solid var(--fill-color);\n",
              "    border-color: transparent;\n",
              "    border-bottom-color: var(--fill-color);\n",
              "    animation:\n",
              "      spin 1s steps(1) infinite;\n",
              "  }\n",
              "\n",
              "  @keyframes spin {\n",
              "    0% {\n",
              "      border-color: transparent;\n",
              "      border-bottom-color: var(--fill-color);\n",
              "      border-left-color: var(--fill-color);\n",
              "    }\n",
              "    20% {\n",
              "      border-color: transparent;\n",
              "      border-left-color: var(--fill-color);\n",
              "      border-top-color: var(--fill-color);\n",
              "    }\n",
              "    30% {\n",
              "      border-color: transparent;\n",
              "      border-left-color: var(--fill-color);\n",
              "      border-top-color: var(--fill-color);\n",
              "      border-right-color: var(--fill-color);\n",
              "    }\n",
              "    40% {\n",
              "      border-color: transparent;\n",
              "      border-right-color: var(--fill-color);\n",
              "      border-top-color: var(--fill-color);\n",
              "    }\n",
              "    60% {\n",
              "      border-color: transparent;\n",
              "      border-right-color: var(--fill-color);\n",
              "    }\n",
              "    80% {\n",
              "      border-color: transparent;\n",
              "      border-right-color: var(--fill-color);\n",
              "      border-bottom-color: var(--fill-color);\n",
              "    }\n",
              "    90% {\n",
              "      border-color: transparent;\n",
              "      border-bottom-color: var(--fill-color);\n",
              "    }\n",
              "  }\n",
              "</style>\n",
              "\n",
              "  <script>\n",
              "    async function quickchart(key) {\n",
              "      const quickchartButtonEl =\n",
              "        document.querySelector('#' + key + ' button');\n",
              "      quickchartButtonEl.disabled = true;  // To prevent multiple clicks.\n",
              "      quickchartButtonEl.classList.add('colab-df-spinner');\n",
              "      try {\n",
              "        const charts = await google.colab.kernel.invokeFunction(\n",
              "            'suggestCharts', [key], {});\n",
              "      } catch (error) {\n",
              "        console.error('Error during call to suggestCharts:', error);\n",
              "      }\n",
              "      quickchartButtonEl.classList.remove('colab-df-spinner');\n",
              "      quickchartButtonEl.classList.add('colab-df-quickchart-complete');\n",
              "    }\n",
              "    (() => {\n",
              "      let quickchartButtonEl =\n",
              "        document.querySelector('#df-a8e05d81-4bac-4c41-b934-f5d2937d6872 button');\n",
              "      quickchartButtonEl.style.display =\n",
              "        google.colab.kernel.accessAllowed ? 'block' : 'none';\n",
              "    })();\n",
              "  </script>\n",
              "</div>\n",
              "\n",
              "    </div>\n",
              "  </div>\n"
            ],
            "application/vnd.google.colaboratory.intrinsic+json": {
              "type": "dataframe",
              "variable_name": "extracted_features_df",
              "summary": "{\n  \"name\": \"extracted_features_df\",\n  \"rows\": 998,\n  \"fields\": [\n    {\n      \"column\": \"feature\",\n      \"properties\": {\n        \"dtype\": \"object\",\n        \"semantic_type\": \"\",\n        \"description\": \"\"\n      }\n    },\n    {\n      \"column\": \"class\",\n      \"properties\": {\n        \"dtype\": \"category\",\n        \"num_unique_values\": 10,\n        \"samples\": [\n          \"reggae\",\n          \"classical\",\n          \"jazz\"\n        ],\n        \"semantic_type\": \"\",\n        \"description\": \"\"\n      }\n    }\n  ]\n}"
            }
          },
          "metadata": {},
          "execution_count": 65
        }
      ]
    },
    {
      "cell_type": "code",
      "source": [
        "extracted_features_df['class'].value_counts()"
      ],
      "metadata": {
        "colab": {
          "base_uri": "https://localhost:8080/"
        },
        "id": "aaAV2y-lJmzE",
        "outputId": "f00c7560-4855-4b84-d1fb-95b3cae23da2"
      },
      "execution_count": null,
      "outputs": [
        {
          "output_type": "execute_result",
          "data": {
            "text/plain": [
              "blues        100\n",
              "classical    100\n",
              "country      100\n",
              "disco        100\n",
              "hiphop       100\n",
              "metal        100\n",
              "pop          100\n",
              "reggae       100\n",
              "rock         100\n",
              "jazz          98\n",
              "Name: class, dtype: int64"
            ]
          },
          "metadata": {},
          "execution_count": 66
        }
      ]
    },
    {
      "cell_type": "markdown",
      "source": [
        "Split dataset into independent and dependent dataset"
      ],
      "metadata": {
        "id": "h6KetNFjMQrv"
      }
    },
    {
      "cell_type": "code",
      "source": [
        "x=np.array(extracted_features_df['feature'].tolist())\n",
        "y=np.array(extracted_features_df['class'].tolist())"
      ],
      "metadata": {
        "id": "S8w3kxxPJtA8"
      },
      "execution_count": null,
      "outputs": []
    },
    {
      "cell_type": "code",
      "source": [
        "x.shape"
      ],
      "metadata": {
        "colab": {
          "base_uri": "https://localhost:8080/"
        },
        "id": "j9DTmEwDKFwL",
        "outputId": "29cbaa5d-66c4-45cc-8e77-29cdff144b51"
      },
      "execution_count": null,
      "outputs": [
        {
          "output_type": "execute_result",
          "data": {
            "text/plain": [
              "(998, 40)"
            ]
          },
          "metadata": {},
          "execution_count": 68
        }
      ]
    },
    {
      "cell_type": "code",
      "source": [
        "from tensorflow.keras.utils import to_categorical\n",
        "from sklearn.preprocessing import LabelEncoder\n",
        "\n",
        "label_encoder = LabelEncoder()\n",
        "y_encoded = label_encoder.fit_transform(y)\n",
        "y= to_categorical(y_encoded)"
      ],
      "metadata": {
        "id": "d64D6A7lKIOW"
      },
      "execution_count": null,
      "outputs": []
    },
    {
      "cell_type": "code",
      "source": [
        "y.shape"
      ],
      "metadata": {
        "colab": {
          "base_uri": "https://localhost:8080/"
        },
        "id": "Vq50NUqROqC9",
        "outputId": "87766d57-acdc-4dd3-ed8d-01ecca3d1449"
      },
      "execution_count": null,
      "outputs": [
        {
          "output_type": "execute_result",
          "data": {
            "text/plain": [
              "(998, 10)"
            ]
          },
          "metadata": {},
          "execution_count": 70
        }
      ]
    },
    {
      "cell_type": "code",
      "source": [
        "from sklearn.model_selection import train_test_split\n",
        "x_train,x_test,y_train,y_test=train_test_split(x,y,test_size=0.2,random_state=0)"
      ],
      "metadata": {
        "id": "CZM5LoMZOwUb"
      },
      "execution_count": null,
      "outputs": []
    },
    {
      "cell_type": "code",
      "source": [
        "print(x_train.shape)\n",
        "\n",
        "print(x_test.shape)\n",
        "\n",
        "print(y_train.shape)\n",
        "print(y_test.shape)\n",
        "\n"
      ],
      "metadata": {
        "colab": {
          "base_uri": "https://localhost:8080/"
        },
        "id": "AZriit3DO-BR",
        "outputId": "bbd77850-c17a-406d-9913-588b5d3013fb"
      },
      "execution_count": null,
      "outputs": [
        {
          "output_type": "stream",
          "name": "stdout",
          "text": [
            "(798, 40)\n",
            "(200, 40)\n",
            "(798, 10)\n",
            "(200, 10)\n"
          ]
        }
      ]
    },
    {
      "cell_type": "code",
      "source": [
        "import tensorflow as tf\n",
        "print(tf.__version__)"
      ],
      "metadata": {
        "colab": {
          "base_uri": "https://localhost:8080/"
        },
        "id": "kXXWWxgePTHV",
        "outputId": "324faaaa-7fa6-4009-928e-5351af39ad43"
      },
      "execution_count": null,
      "outputs": [
        {
          "output_type": "stream",
          "name": "stdout",
          "text": [
            "2.15.0\n"
          ]
        }
      ]
    },
    {
      "cell_type": "code",
      "source": [
        "### No of classes\n",
        "num_labels=y.shape[1]"
      ],
      "metadata": {
        "id": "dfX0UYxEPZMR"
      },
      "execution_count": null,
      "outputs": []
    },
    {
      "cell_type": "code",
      "source": [
        "y.shape[1]"
      ],
      "metadata": {
        "colab": {
          "base_uri": "https://localhost:8080/"
        },
        "id": "R525_7KaRALn",
        "outputId": "5a7f76f5-ec2c-468e-ead2-41b2c8906fd7"
      },
      "execution_count": null,
      "outputs": [
        {
          "output_type": "execute_result",
          "data": {
            "text/plain": [
              "10"
            ]
          },
          "metadata": {},
          "execution_count": 75
        }
      ]
    },
    {
      "cell_type": "code",
      "source": [
        "from tensorflow.keras.models import Sequential\n",
        "from tensorflow.keras.layers import Dense, Dropout, Activation, Flatten\n",
        "from tensorflow.keras.optimizers import Adam\n",
        "from sklearn import metrics"
      ],
      "metadata": {
        "id": "kVOnbVYmQMRg"
      },
      "execution_count": null,
      "outputs": []
    },
    {
      "cell_type": "code",
      "source": [
        "model = Sequential()\n",
        "\n",
        "model.add(Dense(1024, input_shape=(40,), activation='relu'))\n",
        "model.add(Dropout(0.3))\n",
        "model.add(Dense(512, activation=\"relu\"))\n",
        "model.add(Dropout(0.3))\n",
        "model.add(Dense(256, activation=\"relu\"))\n",
        "model.add(Dropout(0.3))\n",
        "model.add(Dense(128, activation=\"relu\"))\n",
        "model.add(Dropout(0.3))\n",
        "model.add(Dense(64, activation=\"relu\"))\n",
        "model.add(Dropout(0.3))\n",
        "model.add(Dense(32, activation=\"relu\"))\n",
        "model.add(Dropout(0.3))\n",
        "\n",
        "# Output layer with num_labels and softmax activation\n",
        "model.add(Dense(num_labels, activation='softmax'))"
      ],
      "metadata": {
        "id": "o7VpKfrePgmd"
      },
      "execution_count": null,
      "outputs": []
    },
    {
      "cell_type": "code",
      "source": [
        "model.summary()"
      ],
      "metadata": {
        "colab": {
          "base_uri": "https://localhost:8080/"
        },
        "id": "CP1bJ-7bQ6WH",
        "outputId": "8a8e4c3a-2dc3-4f4b-b8a6-f6e520f0afbd"
      },
      "execution_count": null,
      "outputs": [
        {
          "output_type": "stream",
          "name": "stdout",
          "text": [
            "Model: \"sequential_2\"\n",
            "_________________________________________________________________\n",
            " Layer (type)                Output Shape              Param #   \n",
            "=================================================================\n",
            " dense_7 (Dense)             (None, 1024)              41984     \n",
            "                                                                 \n",
            " dropout_6 (Dropout)         (None, 1024)              0         \n",
            "                                                                 \n",
            " dense_8 (Dense)             (None, 512)               524800    \n",
            "                                                                 \n",
            " dropout_7 (Dropout)         (None, 512)               0         \n",
            "                                                                 \n",
            " dense_9 (Dense)             (None, 256)               131328    \n",
            "                                                                 \n",
            " dropout_8 (Dropout)         (None, 256)               0         \n",
            "                                                                 \n",
            " dense_10 (Dense)            (None, 128)               32896     \n",
            "                                                                 \n",
            " dropout_9 (Dropout)         (None, 128)               0         \n",
            "                                                                 \n",
            " dense_11 (Dense)            (None, 64)                8256      \n",
            "                                                                 \n",
            " dropout_10 (Dropout)        (None, 64)                0         \n",
            "                                                                 \n",
            " dense_12 (Dense)            (None, 32)                2080      \n",
            "                                                                 \n",
            " dropout_11 (Dropout)        (None, 32)                0         \n",
            "                                                                 \n",
            " dense_13 (Dense)            (None, 10)                330       \n",
            "                                                                 \n",
            "=================================================================\n",
            "Total params: 741674 (2.83 MB)\n",
            "Trainable params: 741674 (2.83 MB)\n",
            "Non-trainable params: 0 (0.00 Byte)\n",
            "_________________________________________________________________\n"
          ]
        }
      ]
    },
    {
      "cell_type": "code",
      "source": [
        "model.compile(loss='categorical_crossentropy',metrics=['accuracy'],optimizer='adam')"
      ],
      "metadata": {
        "id": "Q9U4AOj9RDhw"
      },
      "execution_count": null,
      "outputs": []
    },
    {
      "cell_type": "code",
      "source": [
        "import time\n",
        "t=time.localtime()\n",
        "current_time=time.strftime(\"%H:%M:%S\",t)"
      ],
      "metadata": {
        "id": "SjmxgR8yRTWn"
      },
      "execution_count": null,
      "outputs": []
    },
    {
      "cell_type": "code",
      "source": [
        "#Training model\n",
        "from tensorflow.keras.callbacks import ModelCheckpoint\n",
        "from datetime import datetime\n",
        "\n",
        "num_epochs = 100\n",
        "num_batch_size = 32\n",
        "current_time = datetime.now().strftime(\"%Y%m%d_%H%M%S\")  # Define current_time\n",
        "checkpointer = ModelCheckpoint(filepath=f'saved_models/audio_classification_{current_time}.hdf5',\n",
        "                               verbose=1, save_best_only=True)\n",
        "start = datetime.now()  # Start time\n",
        "\n",
        "history = model.fit(x_train, y_train, batch_size=num_batch_size, epochs=num_epochs,\n",
        "                    validation_data=(x_test, y_test), callbacks=[checkpointer], verbose=1)\n",
        "\n",
        "duration = datetime.now() - start  # Calculate duration\n",
        "print('Training completed in time: ', duration)\n",
        "\n"
      ],
      "metadata": {
        "colab": {
          "base_uri": "https://localhost:8080/"
        },
        "id": "LGmd8rf6RhIZ",
        "outputId": "a13259f7-9c6d-4bd8-ca41-db3d562e3fe1"
      },
      "execution_count": null,
      "outputs": [
        {
          "output_type": "stream",
          "name": "stdout",
          "text": [
            "Epoch 1/100\n",
            "25/25 [==============================] - ETA: 0s - loss: 4.5388 - accuracy: 0.0915\n",
            "Epoch 1: val_loss improved from inf to 2.30361, saving model to saved_models/audio_classification_20240323_125139.hdf5\n",
            "25/25 [==============================] - 3s 41ms/step - loss: 4.5388 - accuracy: 0.0915 - val_loss: 2.3036 - val_accuracy: 0.0750\n",
            "Epoch 2/100\n",
            " 4/25 [===>..........................] - ETA: 0s - loss: 2.9156 - accuracy: 0.0938"
          ]
        },
        {
          "output_type": "stream",
          "name": "stderr",
          "text": [
            "/usr/local/lib/python3.10/dist-packages/keras/src/engine/training.py:3103: UserWarning: You are saving your model as an HDF5 file via `model.save()`. This file format is considered legacy. We recommend using instead the native Keras format, e.g. `model.save('my_model.keras')`.\n",
            "  saving_api.save_model(\n"
          ]
        },
        {
          "output_type": "stream",
          "name": "stdout",
          "text": [
            "24/25 [===========================>..] - ETA: 0s - loss: 2.6226 - accuracy: 0.1068\n",
            "Epoch 2: val_loss improved from 2.30361 to 2.29972, saving model to saved_models/audio_classification_20240323_125139.hdf5\n",
            "25/25 [==============================] - 1s 32ms/step - loss: 2.6205 - accuracy: 0.1053 - val_loss: 2.2997 - val_accuracy: 0.1100\n",
            "Epoch 3/100\n",
            "23/25 [==========================>...] - ETA: 0s - loss: 2.4146 - accuracy: 0.1060\n",
            "Epoch 3: val_loss improved from 2.29972 to 2.29624, saving model to saved_models/audio_classification_20240323_125139.hdf5\n",
            "25/25 [==============================] - 1s 31ms/step - loss: 2.4127 - accuracy: 0.1065 - val_loss: 2.2962 - val_accuracy: 0.1400\n",
            "Epoch 4/100\n",
            "24/25 [===========================>..] - ETA: 0s - loss: 2.3675 - accuracy: 0.1276\n",
            "Epoch 4: val_loss did not improve from 2.29624\n",
            "25/25 [==============================] - 1s 29ms/step - loss: 2.3614 - accuracy: 0.1303 - val_loss: 2.2984 - val_accuracy: 0.0850\n",
            "Epoch 5/100\n",
            "25/25 [==============================] - ETA: 0s - loss: 2.3277 - accuracy: 0.1203\n",
            "Epoch 5: val_loss improved from 2.29624 to 2.27555, saving model to saved_models/audio_classification_20240323_125139.hdf5\n",
            "25/25 [==============================] - 1s 32ms/step - loss: 2.3277 - accuracy: 0.1203 - val_loss: 2.2756 - val_accuracy: 0.1000\n",
            "Epoch 6/100\n",
            "23/25 [==========================>...] - ETA: 0s - loss: 2.3117 - accuracy: 0.1250\n",
            "Epoch 6: val_loss improved from 2.27555 to 2.27546, saving model to saved_models/audio_classification_20240323_125139.hdf5\n",
            "25/25 [==============================] - 1s 26ms/step - loss: 2.3181 - accuracy: 0.1266 - val_loss: 2.2755 - val_accuracy: 0.0950\n",
            "Epoch 7/100\n",
            "22/25 [=========================>....] - ETA: 0s - loss: 2.3061 - accuracy: 0.1463\n",
            "Epoch 7: val_loss improved from 2.27546 to 2.24078, saving model to saved_models/audio_classification_20240323_125139.hdf5\n",
            "25/25 [==============================] - 1s 21ms/step - loss: 2.2913 - accuracy: 0.1466 - val_loss: 2.2408 - val_accuracy: 0.1750\n",
            "Epoch 8/100\n",
            "22/25 [=========================>....] - ETA: 0s - loss: 2.2675 - accuracy: 0.1449\n",
            "Epoch 8: val_loss improved from 2.24078 to 2.19460, saving model to saved_models/audio_classification_20240323_125139.hdf5\n",
            "25/25 [==============================] - 1s 21ms/step - loss: 2.2643 - accuracy: 0.1454 - val_loss: 2.1946 - val_accuracy: 0.2300\n",
            "Epoch 9/100\n",
            "25/25 [==============================] - ETA: 0s - loss: 2.2462 - accuracy: 0.1667\n",
            "Epoch 9: val_loss improved from 2.19460 to 2.16824, saving model to saved_models/audio_classification_20240323_125139.hdf5\n",
            "25/25 [==============================] - 1s 23ms/step - loss: 2.2462 - accuracy: 0.1667 - val_loss: 2.1682 - val_accuracy: 0.2250\n",
            "Epoch 10/100\n",
            "25/25 [==============================] - ETA: 0s - loss: 2.2143 - accuracy: 0.1742\n",
            "Epoch 10: val_loss improved from 2.16824 to 2.10536, saving model to saved_models/audio_classification_20240323_125139.hdf5\n",
            "25/25 [==============================] - 1s 23ms/step - loss: 2.2143 - accuracy: 0.1742 - val_loss: 2.1054 - val_accuracy: 0.2250\n",
            "Epoch 11/100\n",
            "22/25 [=========================>....] - ETA: 0s - loss: 2.1498 - accuracy: 0.1946\n",
            "Epoch 11: val_loss improved from 2.10536 to 2.05729, saving model to saved_models/audio_classification_20240323_125139.hdf5\n",
            "25/25 [==============================] - 1s 21ms/step - loss: 2.1536 - accuracy: 0.1955 - val_loss: 2.0573 - val_accuracy: 0.2650\n",
            "Epoch 12/100\n",
            "24/25 [===========================>..] - ETA: 0s - loss: 2.1556 - accuracy: 0.2044\n",
            "Epoch 12: val_loss improved from 2.05729 to 2.04449, saving model to saved_models/audio_classification_20240323_125139.hdf5\n",
            "25/25 [==============================] - 1s 23ms/step - loss: 2.1512 - accuracy: 0.2068 - val_loss: 2.0445 - val_accuracy: 0.2450\n",
            "Epoch 13/100\n",
            "25/25 [==============================] - ETA: 0s - loss: 2.1790 - accuracy: 0.1992\n",
            "Epoch 13: val_loss improved from 2.04449 to 2.00893, saving model to saved_models/audio_classification_20240323_125139.hdf5\n",
            "25/25 [==============================] - 1s 23ms/step - loss: 2.1790 - accuracy: 0.1992 - val_loss: 2.0089 - val_accuracy: 0.2350\n",
            "Epoch 14/100\n",
            "22/25 [=========================>....] - ETA: 0s - loss: 2.1427 - accuracy: 0.2216\n",
            "Epoch 14: val_loss did not improve from 2.00893\n",
            "25/25 [==============================] - 1s 21ms/step - loss: 2.1557 - accuracy: 0.2068 - val_loss: 2.0722 - val_accuracy: 0.2600\n",
            "Epoch 15/100\n",
            "23/25 [==========================>...] - ETA: 0s - loss: 2.0770 - accuracy: 0.2215\n",
            "Epoch 15: val_loss improved from 2.00893 to 1.99096, saving model to saved_models/audio_classification_20240323_125139.hdf5\n",
            "25/25 [==============================] - 1s 22ms/step - loss: 2.0621 - accuracy: 0.2331 - val_loss: 1.9910 - val_accuracy: 0.3550\n",
            "Epoch 16/100\n",
            "22/25 [=========================>....] - ETA: 0s - loss: 2.0630 - accuracy: 0.2401\n",
            "Epoch 16: val_loss improved from 1.99096 to 1.92232, saving model to saved_models/audio_classification_20240323_125139.hdf5\n",
            "25/25 [==============================] - 1s 23ms/step - loss: 2.0460 - accuracy: 0.2456 - val_loss: 1.9223 - val_accuracy: 0.3400\n",
            "Epoch 17/100\n",
            "24/25 [===========================>..] - ETA: 0s - loss: 1.9944 - accuracy: 0.2604\n",
            "Epoch 17: val_loss did not improve from 1.92232\n",
            "25/25 [==============================] - 1s 20ms/step - loss: 1.9932 - accuracy: 0.2594 - val_loss: 1.9223 - val_accuracy: 0.3100\n",
            "Epoch 18/100\n",
            "22/25 [=========================>....] - ETA: 0s - loss: 1.9388 - accuracy: 0.2670\n",
            "Epoch 18: val_loss improved from 1.92232 to 1.84127, saving model to saved_models/audio_classification_20240323_125139.hdf5\n",
            "25/25 [==============================] - 1s 22ms/step - loss: 1.9594 - accuracy: 0.2632 - val_loss: 1.8413 - val_accuracy: 0.3500\n",
            "Epoch 19/100\n",
            "22/25 [=========================>....] - ETA: 0s - loss: 1.9977 - accuracy: 0.2358\n",
            "Epoch 19: val_loss did not improve from 1.84127\n",
            "25/25 [==============================] - 1s 20ms/step - loss: 1.9945 - accuracy: 0.2419 - val_loss: 1.8511 - val_accuracy: 0.3550\n",
            "Epoch 20/100\n",
            "22/25 [=========================>....] - ETA: 0s - loss: 1.9361 - accuracy: 0.3082\n",
            "Epoch 20: val_loss improved from 1.84127 to 1.76825, saving model to saved_models/audio_classification_20240323_125139.hdf5\n",
            "25/25 [==============================] - 1s 22ms/step - loss: 1.9331 - accuracy: 0.3045 - val_loss: 1.7682 - val_accuracy: 0.3400\n",
            "Epoch 21/100\n",
            "24/25 [===========================>..] - ETA: 0s - loss: 1.9310 - accuracy: 0.2982\n",
            "Epoch 21: val_loss did not improve from 1.76825\n",
            "25/25 [==============================] - 1s 21ms/step - loss: 1.9301 - accuracy: 0.2982 - val_loss: 1.8025 - val_accuracy: 0.3700\n",
            "Epoch 22/100\n",
            "24/25 [===========================>..] - ETA: 0s - loss: 1.9253 - accuracy: 0.2943\n",
            "Epoch 22: val_loss did not improve from 1.76825\n",
            "25/25 [==============================] - 0s 19ms/step - loss: 1.9155 - accuracy: 0.2982 - val_loss: 1.7873 - val_accuracy: 0.3350\n",
            "Epoch 23/100\n",
            "24/25 [===========================>..] - ETA: 0s - loss: 1.8733 - accuracy: 0.3398\n",
            "Epoch 23: val_loss did not improve from 1.76825\n",
            "25/25 [==============================] - 0s 19ms/step - loss: 1.8807 - accuracy: 0.3321 - val_loss: 1.7888 - val_accuracy: 0.3400\n",
            "Epoch 24/100\n",
            "25/25 [==============================] - ETA: 0s - loss: 1.8420 - accuracy: 0.3321\n",
            "Epoch 24: val_loss improved from 1.76825 to 1.75316, saving model to saved_models/audio_classification_20240323_125139.hdf5\n",
            "25/25 [==============================] - 1s 27ms/step - loss: 1.8420 - accuracy: 0.3321 - val_loss: 1.7532 - val_accuracy: 0.3700\n",
            "Epoch 25/100\n",
            "24/25 [===========================>..] - ETA: 0s - loss: 1.8523 - accuracy: 0.3112\n",
            "Epoch 25: val_loss improved from 1.75316 to 1.72191, saving model to saved_models/audio_classification_20240323_125139.hdf5\n",
            "25/25 [==============================] - 1s 33ms/step - loss: 1.8542 - accuracy: 0.3083 - val_loss: 1.7219 - val_accuracy: 0.3950\n",
            "Epoch 26/100\n",
            "24/25 [===========================>..] - ETA: 0s - loss: 1.7911 - accuracy: 0.3320\n",
            "Epoch 26: val_loss improved from 1.72191 to 1.70254, saving model to saved_models/audio_classification_20240323_125139.hdf5\n",
            "25/25 [==============================] - 1s 31ms/step - loss: 1.7845 - accuracy: 0.3358 - val_loss: 1.7025 - val_accuracy: 0.4050\n",
            "Epoch 27/100\n",
            "24/25 [===========================>..] - ETA: 0s - loss: 1.7962 - accuracy: 0.3333\n",
            "Epoch 27: val_loss improved from 1.70254 to 1.62730, saving model to saved_models/audio_classification_20240323_125139.hdf5\n",
            "25/25 [==============================] - 1s 32ms/step - loss: 1.7913 - accuracy: 0.3346 - val_loss: 1.6273 - val_accuracy: 0.4400\n",
            "Epoch 28/100\n",
            "23/25 [==========================>...] - ETA: 0s - loss: 1.7556 - accuracy: 0.3152\n",
            "Epoch 28: val_loss did not improve from 1.62730\n",
            "25/25 [==============================] - 1s 28ms/step - loss: 1.7608 - accuracy: 0.3183 - val_loss: 1.6322 - val_accuracy: 0.4250\n",
            "Epoch 29/100\n",
            "23/25 [==========================>...] - ETA: 0s - loss: 1.7396 - accuracy: 0.3587\n",
            "Epoch 29: val_loss improved from 1.62730 to 1.61657, saving model to saved_models/audio_classification_20240323_125139.hdf5\n",
            "25/25 [==============================] - 1s 33ms/step - loss: 1.7548 - accuracy: 0.3559 - val_loss: 1.6166 - val_accuracy: 0.4550\n",
            "Epoch 30/100\n",
            "24/25 [===========================>..] - ETA: 0s - loss: 1.6977 - accuracy: 0.3542\n",
            "Epoch 30: val_loss did not improve from 1.61657\n",
            "25/25 [==============================] - 0s 19ms/step - loss: 1.6971 - accuracy: 0.3559 - val_loss: 1.6180 - val_accuracy: 0.4550\n",
            "Epoch 31/100\n",
            "22/25 [=========================>....] - ETA: 0s - loss: 1.7210 - accuracy: 0.3651\n",
            "Epoch 31: val_loss did not improve from 1.61657\n",
            "25/25 [==============================] - 1s 20ms/step - loss: 1.7030 - accuracy: 0.3697 - val_loss: 1.6438 - val_accuracy: 0.4400\n",
            "Epoch 32/100\n",
            "23/25 [==========================>...] - ETA: 0s - loss: 1.6616 - accuracy: 0.4008\n",
            "Epoch 32: val_loss improved from 1.61657 to 1.53792, saving model to saved_models/audio_classification_20240323_125139.hdf5\n",
            "25/25 [==============================] - 1s 23ms/step - loss: 1.6559 - accuracy: 0.4073 - val_loss: 1.5379 - val_accuracy: 0.4700\n",
            "Epoch 33/100\n",
            "24/25 [===========================>..] - ETA: 0s - loss: 1.7406 - accuracy: 0.3724\n",
            "Epoch 33: val_loss did not improve from 1.53792\n",
            "25/25 [==============================] - 1s 20ms/step - loss: 1.7309 - accuracy: 0.3747 - val_loss: 1.6077 - val_accuracy: 0.4700\n",
            "Epoch 34/100\n",
            "23/25 [==========================>...] - ETA: 0s - loss: 1.6395 - accuracy: 0.3954\n",
            "Epoch 34: val_loss did not improve from 1.53792\n",
            "25/25 [==============================] - 1s 21ms/step - loss: 1.6326 - accuracy: 0.3947 - val_loss: 1.5410 - val_accuracy: 0.4700\n",
            "Epoch 35/100\n",
            "24/25 [===========================>..] - ETA: 0s - loss: 1.5850 - accuracy: 0.4010\n",
            "Epoch 35: val_loss did not improve from 1.53792\n",
            "25/25 [==============================] - 1s 20ms/step - loss: 1.5889 - accuracy: 0.3997 - val_loss: 1.6327 - val_accuracy: 0.4500\n",
            "Epoch 36/100\n",
            "23/25 [==========================>...] - ETA: 0s - loss: 1.6255 - accuracy: 0.4144\n",
            "Epoch 36: val_loss did not improve from 1.53792\n",
            "25/25 [==============================] - 0s 19ms/step - loss: 1.6288 - accuracy: 0.4173 - val_loss: 1.5723 - val_accuracy: 0.4650\n",
            "Epoch 37/100\n",
            "22/25 [=========================>....] - ETA: 0s - loss: 1.5357 - accuracy: 0.4361\n",
            "Epoch 37: val_loss did not improve from 1.53792\n",
            "25/25 [==============================] - 1s 21ms/step - loss: 1.5445 - accuracy: 0.4311 - val_loss: 1.5558 - val_accuracy: 0.4600\n",
            "Epoch 38/100\n",
            "24/25 [===========================>..] - ETA: 0s - loss: 1.4901 - accuracy: 0.4466\n",
            "Epoch 38: val_loss did not improve from 1.53792\n",
            "25/25 [==============================] - 1s 21ms/step - loss: 1.4969 - accuracy: 0.4398 - val_loss: 1.5858 - val_accuracy: 0.4500\n",
            "Epoch 39/100\n",
            "22/25 [=========================>....] - ETA: 0s - loss: 1.5923 - accuracy: 0.4062\n",
            "Epoch 39: val_loss did not improve from 1.53792\n",
            "25/25 [==============================] - 0s 19ms/step - loss: 1.5775 - accuracy: 0.4123 - val_loss: 1.5526 - val_accuracy: 0.4650\n",
            "Epoch 40/100\n",
            "23/25 [==========================>...] - ETA: 0s - loss: 1.5123 - accuracy: 0.4470\n",
            "Epoch 40: val_loss improved from 1.53792 to 1.53061, saving model to saved_models/audio_classification_20240323_125139.hdf5\n",
            "25/25 [==============================] - 1s 23ms/step - loss: 1.5068 - accuracy: 0.4499 - val_loss: 1.5306 - val_accuracy: 0.4400\n",
            "Epoch 41/100\n",
            "23/25 [==========================>...] - ETA: 0s - loss: 1.4554 - accuracy: 0.4592\n",
            "Epoch 41: val_loss improved from 1.53061 to 1.52654, saving model to saved_models/audio_classification_20240323_125139.hdf5\n",
            "25/25 [==============================] - 1s 21ms/step - loss: 1.4514 - accuracy: 0.4637 - val_loss: 1.5265 - val_accuracy: 0.4500\n",
            "Epoch 42/100\n",
            "25/25 [==============================] - ETA: 0s - loss: 1.4802 - accuracy: 0.4449\n",
            "Epoch 42: val_loss improved from 1.52654 to 1.50055, saving model to saved_models/audio_classification_20240323_125139.hdf5\n",
            "25/25 [==============================] - 1s 23ms/step - loss: 1.4802 - accuracy: 0.4449 - val_loss: 1.5005 - val_accuracy: 0.4550\n",
            "Epoch 43/100\n",
            "24/25 [===========================>..] - ETA: 0s - loss: 1.4424 - accuracy: 0.4896\n",
            "Epoch 43: val_loss did not improve from 1.50055\n",
            "25/25 [==============================] - 1s 21ms/step - loss: 1.4547 - accuracy: 0.4850 - val_loss: 1.5421 - val_accuracy: 0.4500\n",
            "Epoch 44/100\n",
            "23/25 [==========================>...] - ETA: 0s - loss: 1.4338 - accuracy: 0.4864\n",
            "Epoch 44: val_loss did not improve from 1.50055\n",
            "25/25 [==============================] - 0s 19ms/step - loss: 1.4347 - accuracy: 0.4837 - val_loss: 1.5871 - val_accuracy: 0.4800\n",
            "Epoch 45/100\n",
            "23/25 [==========================>...] - ETA: 0s - loss: 1.4236 - accuracy: 0.4796\n",
            "Epoch 45: val_loss improved from 1.50055 to 1.47789, saving model to saved_models/audio_classification_20240323_125139.hdf5\n",
            "25/25 [==============================] - 1s 23ms/step - loss: 1.4434 - accuracy: 0.4749 - val_loss: 1.4779 - val_accuracy: 0.4600\n",
            "Epoch 46/100\n",
            "22/25 [=========================>....] - ETA: 0s - loss: 1.4264 - accuracy: 0.4602\n",
            "Epoch 46: val_loss improved from 1.47789 to 1.47288, saving model to saved_models/audio_classification_20240323_125139.hdf5\n",
            "25/25 [==============================] - 1s 22ms/step - loss: 1.4109 - accuracy: 0.4699 - val_loss: 1.4729 - val_accuracy: 0.4850\n",
            "Epoch 47/100\n",
            "24/25 [===========================>..] - ETA: 0s - loss: 1.3693 - accuracy: 0.4753\n",
            "Epoch 47: val_loss did not improve from 1.47288\n",
            "25/25 [==============================] - 1s 20ms/step - loss: 1.3626 - accuracy: 0.4762 - val_loss: 1.4889 - val_accuracy: 0.5200\n",
            "Epoch 48/100\n",
            "25/25 [==============================] - ETA: 0s - loss: 1.3891 - accuracy: 0.4862\n",
            "Epoch 48: val_loss did not improve from 1.47288\n",
            "25/25 [==============================] - 1s 22ms/step - loss: 1.3891 - accuracy: 0.4862 - val_loss: 1.4742 - val_accuracy: 0.5150\n",
            "Epoch 49/100\n",
            "25/25 [==============================] - ETA: 0s - loss: 1.3517 - accuracy: 0.5038\n",
            "Epoch 49: val_loss did not improve from 1.47288\n",
            "25/25 [==============================] - 1s 29ms/step - loss: 1.3517 - accuracy: 0.5038 - val_loss: 1.5870 - val_accuracy: 0.4900\n",
            "Epoch 50/100\n",
            "23/25 [==========================>...] - ETA: 0s - loss: 1.3276 - accuracy: 0.5177\n",
            "Epoch 50: val_loss did not improve from 1.47288\n",
            "25/25 [==============================] - 1s 29ms/step - loss: 1.3522 - accuracy: 0.5125 - val_loss: 1.4745 - val_accuracy: 0.5300\n",
            "Epoch 51/100\n",
            "24/25 [===========================>..] - ETA: 0s - loss: 1.2739 - accuracy: 0.5299\n",
            "Epoch 51: val_loss did not improve from 1.47288\n",
            "25/25 [==============================] - 1s 28ms/step - loss: 1.2766 - accuracy: 0.5301 - val_loss: 1.4870 - val_accuracy: 0.5000\n",
            "Epoch 52/100\n",
            "23/25 [==========================>...] - ETA: 0s - loss: 1.2946 - accuracy: 0.5217\n",
            "Epoch 52: val_loss did not improve from 1.47288\n",
            "25/25 [==============================] - 1s 27ms/step - loss: 1.2946 - accuracy: 0.5175 - val_loss: 1.4856 - val_accuracy: 0.5100\n",
            "Epoch 53/100\n",
            "23/25 [==========================>...] - ETA: 0s - loss: 1.2761 - accuracy: 0.5367\n",
            "Epoch 53: val_loss did not improve from 1.47288\n",
            "25/25 [==============================] - 1s 30ms/step - loss: 1.2622 - accuracy: 0.5426 - val_loss: 1.6988 - val_accuracy: 0.4800\n",
            "Epoch 54/100\n",
            "24/25 [===========================>..] - ETA: 0s - loss: 1.2892 - accuracy: 0.5352\n",
            "Epoch 54: val_loss did not improve from 1.47288\n",
            "25/25 [==============================] - 1s 29ms/step - loss: 1.3013 - accuracy: 0.5326 - val_loss: 1.5027 - val_accuracy: 0.5150\n",
            "Epoch 55/100\n",
            "22/25 [=========================>....] - ETA: 0s - loss: 1.3223 - accuracy: 0.4830\n",
            "Epoch 55: val_loss did not improve from 1.47288\n",
            "25/25 [==============================] - 0s 19ms/step - loss: 1.2890 - accuracy: 0.4987 - val_loss: 1.5451 - val_accuracy: 0.5200\n",
            "Epoch 56/100\n",
            "23/25 [==========================>...] - ETA: 0s - loss: 1.3216 - accuracy: 0.5312\n",
            "Epoch 56: val_loss did not improve from 1.47288\n",
            "25/25 [==============================] - 0s 19ms/step - loss: 1.3159 - accuracy: 0.5313 - val_loss: 1.4920 - val_accuracy: 0.4800\n",
            "Epoch 57/100\n",
            "22/25 [=========================>....] - ETA: 0s - loss: 1.3380 - accuracy: 0.5000\n",
            "Epoch 57: val_loss did not improve from 1.47288\n",
            "25/25 [==============================] - 1s 20ms/step - loss: 1.3260 - accuracy: 0.5050 - val_loss: 1.5345 - val_accuracy: 0.5150\n",
            "Epoch 58/100\n",
            "24/25 [===========================>..] - ETA: 0s - loss: 1.2617 - accuracy: 0.5221\n",
            "Epoch 58: val_loss did not improve from 1.47288\n",
            "25/25 [==============================] - 0s 19ms/step - loss: 1.2620 - accuracy: 0.5226 - val_loss: 1.6198 - val_accuracy: 0.4900\n",
            "Epoch 59/100\n",
            "25/25 [==============================] - ETA: 0s - loss: 1.2091 - accuracy: 0.5313\n",
            "Epoch 59: val_loss did not improve from 1.47288\n",
            "25/25 [==============================] - 0s 19ms/step - loss: 1.2091 - accuracy: 0.5313 - val_loss: 1.4748 - val_accuracy: 0.5200\n",
            "Epoch 60/100\n",
            "23/25 [==========================>...] - ETA: 0s - loss: 1.1564 - accuracy: 0.5870\n",
            "Epoch 60: val_loss did not improve from 1.47288\n",
            "25/25 [==============================] - 1s 21ms/step - loss: 1.1722 - accuracy: 0.5764 - val_loss: 1.5472 - val_accuracy: 0.4750\n",
            "Epoch 61/100\n",
            "25/25 [==============================] - ETA: 0s - loss: 1.1796 - accuracy: 0.5789\n",
            "Epoch 61: val_loss did not improve from 1.47288\n",
            "25/25 [==============================] - 1s 21ms/step - loss: 1.1796 - accuracy: 0.5789 - val_loss: 1.5629 - val_accuracy: 0.5500\n",
            "Epoch 62/100\n",
            "24/25 [===========================>..] - ETA: 0s - loss: 1.1734 - accuracy: 0.5898\n",
            "Epoch 62: val_loss did not improve from 1.47288\n",
            "25/25 [==============================] - 0s 19ms/step - loss: 1.1778 - accuracy: 0.5940 - val_loss: 1.5571 - val_accuracy: 0.5000\n",
            "Epoch 63/100\n",
            "23/25 [==========================>...] - ETA: 0s - loss: 1.0930 - accuracy: 0.5870\n",
            "Epoch 63: val_loss improved from 1.47288 to 1.45058, saving model to saved_models/audio_classification_20240323_125139.hdf5\n",
            "25/25 [==============================] - 1s 22ms/step - loss: 1.1142 - accuracy: 0.5789 - val_loss: 1.4506 - val_accuracy: 0.5700\n",
            "Epoch 64/100\n",
            "23/25 [==========================>...] - ETA: 0s - loss: 1.1592 - accuracy: 0.5842\n",
            "Epoch 64: val_loss did not improve from 1.45058\n",
            "25/25 [==============================] - 1s 20ms/step - loss: 1.1549 - accuracy: 0.5890 - val_loss: 1.5079 - val_accuracy: 0.5100\n",
            "Epoch 65/100\n",
            "23/25 [==========================>...] - ETA: 0s - loss: 1.1375 - accuracy: 0.5883\n",
            "Epoch 65: val_loss did not improve from 1.45058\n",
            "25/25 [==============================] - 0s 20ms/step - loss: 1.1243 - accuracy: 0.5915 - val_loss: 1.6365 - val_accuracy: 0.5500\n",
            "Epoch 66/100\n",
            "22/25 [=========================>....] - ETA: 0s - loss: 1.2659 - accuracy: 0.5696\n",
            "Epoch 66: val_loss did not improve from 1.45058\n",
            "25/25 [==============================] - 1s 22ms/step - loss: 1.3234 - accuracy: 0.5564 - val_loss: 1.5774 - val_accuracy: 0.4550\n",
            "Epoch 67/100\n",
            "25/25 [==============================] - ETA: 0s - loss: 1.2565 - accuracy: 0.5551\n",
            "Epoch 67: val_loss did not improve from 1.45058\n",
            "25/25 [==============================] - 1s 20ms/step - loss: 1.2565 - accuracy: 0.5551 - val_loss: 1.4995 - val_accuracy: 0.5300\n",
            "Epoch 68/100\n",
            "23/25 [==========================>...] - ETA: 0s - loss: 1.2025 - accuracy: 0.5707\n",
            "Epoch 68: val_loss did not improve from 1.45058\n",
            "25/25 [==============================] - 1s 22ms/step - loss: 1.1954 - accuracy: 0.5752 - val_loss: 1.4620 - val_accuracy: 0.5500\n",
            "Epoch 69/100\n",
            "22/25 [=========================>....] - ETA: 0s - loss: 1.1899 - accuracy: 0.5625\n",
            "Epoch 69: val_loss improved from 1.45058 to 1.42873, saving model to saved_models/audio_classification_20240323_125139.hdf5\n",
            "25/25 [==============================] - 1s 22ms/step - loss: 1.2074 - accuracy: 0.5664 - val_loss: 1.4287 - val_accuracy: 0.5300\n",
            "Epoch 70/100\n",
            "25/25 [==============================] - ETA: 0s - loss: 1.0876 - accuracy: 0.6053\n",
            "Epoch 70: val_loss did not improve from 1.42873\n",
            "25/25 [==============================] - 1s 22ms/step - loss: 1.0876 - accuracy: 0.6053 - val_loss: 1.4585 - val_accuracy: 0.5550\n",
            "Epoch 71/100\n",
            "25/25 [==============================] - ETA: 0s - loss: 1.0467 - accuracy: 0.6228\n",
            "Epoch 71: val_loss did not improve from 1.42873\n",
            "25/25 [==============================] - 1s 22ms/step - loss: 1.0467 - accuracy: 0.6228 - val_loss: 1.5111 - val_accuracy: 0.5600\n",
            "Epoch 72/100\n",
            "22/25 [=========================>....] - ETA: 0s - loss: 0.9548 - accuracy: 0.6435\n",
            "Epoch 72: val_loss did not improve from 1.42873\n",
            "25/25 [==============================] - 1s 20ms/step - loss: 0.9682 - accuracy: 0.6366 - val_loss: 1.6359 - val_accuracy: 0.5300\n",
            "Epoch 73/100\n",
            "23/25 [==========================>...] - ETA: 0s - loss: 1.0198 - accuracy: 0.6467\n",
            "Epoch 73: val_loss did not improve from 1.42873\n",
            "25/25 [==============================] - 1s 21ms/step - loss: 1.0280 - accuracy: 0.6429 - val_loss: 1.6211 - val_accuracy: 0.5350\n",
            "Epoch 74/100\n",
            "25/25 [==============================] - ETA: 0s - loss: 1.0608 - accuracy: 0.6253\n",
            "Epoch 74: val_loss did not improve from 1.42873\n",
            "25/25 [==============================] - 1s 29ms/step - loss: 1.0608 - accuracy: 0.6253 - val_loss: 1.6768 - val_accuracy: 0.5300\n",
            "Epoch 75/100\n",
            "24/25 [===========================>..] - ETA: 0s - loss: 0.9893 - accuracy: 0.6419\n",
            "Epoch 75: val_loss did not improve from 1.42873\n",
            "25/25 [==============================] - 1s 27ms/step - loss: 0.9886 - accuracy: 0.6378 - val_loss: 1.6512 - val_accuracy: 0.5450\n",
            "Epoch 76/100\n",
            "23/25 [==========================>...] - ETA: 0s - loss: 1.0347 - accuracy: 0.6508\n",
            "Epoch 76: val_loss did not improve from 1.42873\n",
            "25/25 [==============================] - 1s 28ms/step - loss: 1.0289 - accuracy: 0.6504 - val_loss: 1.7583 - val_accuracy: 0.5400\n",
            "Epoch 77/100\n",
            "24/25 [===========================>..] - ETA: 0s - loss: 1.0272 - accuracy: 0.6562\n",
            "Epoch 77: val_loss did not improve from 1.42873\n",
            "25/25 [==============================] - 1s 28ms/step - loss: 1.0441 - accuracy: 0.6541 - val_loss: 1.6384 - val_accuracy: 0.5250\n",
            "Epoch 78/100\n",
            "25/25 [==============================] - ETA: 0s - loss: 0.9895 - accuracy: 0.6190\n",
            "Epoch 78: val_loss did not improve from 1.42873\n",
            "25/25 [==============================] - 1s 28ms/step - loss: 0.9895 - accuracy: 0.6190 - val_loss: 1.6735 - val_accuracy: 0.5500\n",
            "Epoch 79/100\n",
            "23/25 [==========================>...] - ETA: 0s - loss: 0.9663 - accuracy: 0.6712\n",
            "Epoch 79: val_loss did not improve from 1.42873\n",
            "25/25 [==============================] - 1s 30ms/step - loss: 0.9553 - accuracy: 0.6805 - val_loss: 1.9122 - val_accuracy: 0.5250\n",
            "Epoch 80/100\n",
            "22/25 [=========================>....] - ETA: 0s - loss: 0.9724 - accuracy: 0.6605\n",
            "Epoch 80: val_loss did not improve from 1.42873\n",
            "25/25 [==============================] - 1s 20ms/step - loss: 0.9846 - accuracy: 0.6529 - val_loss: 1.5763 - val_accuracy: 0.5650\n",
            "Epoch 81/100\n",
            "23/25 [==========================>...] - ETA: 0s - loss: 0.9505 - accuracy: 0.6359\n",
            "Epoch 81: val_loss did not improve from 1.42873\n",
            "25/25 [==============================] - 0s 19ms/step - loss: 0.9622 - accuracy: 0.6404 - val_loss: 1.7471 - val_accuracy: 0.5750\n",
            "Epoch 82/100\n",
            "23/25 [==========================>...] - ETA: 0s - loss: 0.9877 - accuracy: 0.6454\n",
            "Epoch 82: val_loss did not improve from 1.42873\n",
            "25/25 [==============================] - 1s 20ms/step - loss: 0.9865 - accuracy: 0.6466 - val_loss: 1.6291 - val_accuracy: 0.5850\n",
            "Epoch 83/100\n",
            "23/25 [==========================>...] - ETA: 0s - loss: 1.0179 - accuracy: 0.6318\n",
            "Epoch 83: val_loss did not improve from 1.42873\n",
            "25/25 [==============================] - 0s 20ms/step - loss: 1.0340 - accuracy: 0.6378 - val_loss: 1.6293 - val_accuracy: 0.5450\n",
            "Epoch 84/100\n",
            "23/25 [==========================>...] - ETA: 0s - loss: 0.9489 - accuracy: 0.6875\n",
            "Epoch 84: val_loss did not improve from 1.42873\n",
            "25/25 [==============================] - 1s 21ms/step - loss: 0.9403 - accuracy: 0.6917 - val_loss: 1.7073 - val_accuracy: 0.5350\n",
            "Epoch 85/100\n",
            "25/25 [==============================] - ETA: 0s - loss: 0.9033 - accuracy: 0.6930\n",
            "Epoch 85: val_loss did not improve from 1.42873\n",
            "25/25 [==============================] - 1s 20ms/step - loss: 0.9033 - accuracy: 0.6930 - val_loss: 1.8663 - val_accuracy: 0.5900\n",
            "Epoch 86/100\n",
            "25/25 [==============================] - ETA: 0s - loss: 0.8962 - accuracy: 0.6955\n",
            "Epoch 86: val_loss did not improve from 1.42873\n",
            "25/25 [==============================] - 0s 19ms/step - loss: 0.8962 - accuracy: 0.6955 - val_loss: 1.7129 - val_accuracy: 0.5800\n",
            "Epoch 87/100\n",
            "23/25 [==========================>...] - ETA: 0s - loss: 0.8857 - accuracy: 0.7024\n",
            "Epoch 87: val_loss did not improve from 1.42873\n",
            "25/25 [==============================] - 1s 22ms/step - loss: 0.9039 - accuracy: 0.6955 - val_loss: 1.5538 - val_accuracy: 0.5800\n",
            "Epoch 88/100\n",
            "24/25 [===========================>..] - ETA: 0s - loss: 0.8309 - accuracy: 0.6979\n",
            "Epoch 88: val_loss did not improve from 1.42873\n",
            "25/25 [==============================] - 1s 21ms/step - loss: 0.8369 - accuracy: 0.6955 - val_loss: 1.6108 - val_accuracy: 0.6150\n",
            "Epoch 89/100\n",
            "25/25 [==============================] - ETA: 0s - loss: 0.8655 - accuracy: 0.6980\n",
            "Epoch 89: val_loss did not improve from 1.42873\n",
            "25/25 [==============================] - 1s 20ms/step - loss: 0.8655 - accuracy: 0.6980 - val_loss: 2.0153 - val_accuracy: 0.6000\n",
            "Epoch 90/100\n",
            "24/25 [===========================>..] - ETA: 0s - loss: 0.8293 - accuracy: 0.7214\n",
            "Epoch 90: val_loss did not improve from 1.42873\n",
            "25/25 [==============================] - 1s 21ms/step - loss: 0.8339 - accuracy: 0.7180 - val_loss: 1.7790 - val_accuracy: 0.6050\n",
            "Epoch 91/100\n",
            "24/25 [===========================>..] - ETA: 0s - loss: 0.7660 - accuracy: 0.7461\n",
            "Epoch 91: val_loss did not improve from 1.42873\n",
            "25/25 [==============================] - 0s 19ms/step - loss: 0.7736 - accuracy: 0.7419 - val_loss: 1.8677 - val_accuracy: 0.5750\n",
            "Epoch 92/100\n",
            "25/25 [==============================] - ETA: 0s - loss: 0.8039 - accuracy: 0.7155\n",
            "Epoch 92: val_loss did not improve from 1.42873\n",
            "25/25 [==============================] - 1s 21ms/step - loss: 0.8039 - accuracy: 0.7155 - val_loss: 1.9059 - val_accuracy: 0.5450\n",
            "Epoch 93/100\n",
            "23/25 [==========================>...] - ETA: 0s - loss: 0.7647 - accuracy: 0.7554\n",
            "Epoch 93: val_loss did not improve from 1.42873\n",
            "25/25 [==============================] - 1s 21ms/step - loss: 0.7654 - accuracy: 0.7544 - val_loss: 1.8334 - val_accuracy: 0.5750\n",
            "Epoch 94/100\n",
            "24/25 [===========================>..] - ETA: 0s - loss: 0.8669 - accuracy: 0.7305\n",
            "Epoch 94: val_loss did not improve from 1.42873\n",
            "25/25 [==============================] - 1s 21ms/step - loss: 0.8684 - accuracy: 0.7293 - val_loss: 2.0262 - val_accuracy: 0.5250\n",
            "Epoch 95/100\n",
            "22/25 [=========================>....] - ETA: 0s - loss: 0.8717 - accuracy: 0.6932\n",
            "Epoch 95: val_loss did not improve from 1.42873\n",
            "25/25 [==============================] - 1s 21ms/step - loss: 0.8586 - accuracy: 0.6930 - val_loss: 1.9416 - val_accuracy: 0.5300\n",
            "Epoch 96/100\n",
            "23/25 [==========================>...] - ETA: 0s - loss: 0.8421 - accuracy: 0.7269\n",
            "Epoch 96: val_loss did not improve from 1.42873\n",
            "25/25 [==============================] - 1s 20ms/step - loss: 0.8400 - accuracy: 0.7256 - val_loss: 1.6471 - val_accuracy: 0.5750\n",
            "Epoch 97/100\n",
            "23/25 [==========================>...] - ETA: 0s - loss: 0.7785 - accuracy: 0.7147\n",
            "Epoch 97: val_loss did not improve from 1.42873\n",
            "25/25 [==============================] - 1s 21ms/step - loss: 0.7870 - accuracy: 0.7093 - val_loss: 1.9024 - val_accuracy: 0.5550\n",
            "Epoch 98/100\n",
            "23/25 [==========================>...] - ETA: 0s - loss: 0.7177 - accuracy: 0.7418\n",
            "Epoch 98: val_loss did not improve from 1.42873\n",
            "25/25 [==============================] - 0s 20ms/step - loss: 0.7159 - accuracy: 0.7381 - val_loss: 2.0884 - val_accuracy: 0.6050\n",
            "Epoch 99/100\n",
            "23/25 [==========================>...] - ETA: 0s - loss: 0.7091 - accuracy: 0.7582\n",
            "Epoch 99: val_loss did not improve from 1.42873\n",
            "25/25 [==============================] - 1s 24ms/step - loss: 0.7067 - accuracy: 0.7581 - val_loss: 2.2345 - val_accuracy: 0.5700\n",
            "Epoch 100/100\n",
            "23/25 [==========================>...] - ETA: 0s - loss: 0.7681 - accuracy: 0.7378\n",
            "Epoch 100: val_loss did not improve from 1.42873\n",
            "25/25 [==============================] - 1s 28ms/step - loss: 0.7602 - accuracy: 0.7368 - val_loss: 2.2811 - val_accuracy: 0.5450\n",
            "Training completed in time:  0:01:00.353619\n"
          ]
        }
      ]
    },
    {
      "cell_type": "code",
      "source": [
        "model.evaluate(x_test,y_test,verbose=0)"
      ],
      "metadata": {
        "colab": {
          "base_uri": "https://localhost:8080/"
        },
        "id": "QyAji0aNR2xI",
        "outputId": "659d8609-ed45-4431-95dc-82f93794ea27"
      },
      "execution_count": null,
      "outputs": [
        {
          "output_type": "execute_result",
          "data": {
            "text/plain": [
              "[2.281059980392456, 0.5450000166893005]"
            ]
          },
          "metadata": {},
          "execution_count": 82
        }
      ]
    },
    {
      "cell_type": "code",
      "source": [
        "pd.DataFrame(history.history).plot(figsize=(12,6))\n",
        "plt.show()"
      ],
      "metadata": {
        "colab": {
          "base_uri": "https://localhost:8080/",
          "height": 522
        },
        "id": "UuSVJamiT3sk",
        "outputId": "2f328b5d-791a-4d56-e0ef-e62723bb99f4"
      },
      "execution_count": null,
      "outputs": [
        {
          "output_type": "display_data",
          "data": {
            "text/plain": [
              "<Figure size 1200x600 with 1 Axes>"
            ],
            "image/png": "[encoded data removed]"
          },
          "metadata": {}
        }
      ]
    },
    {
      "cell_type": "code",
      "source": [
        "# Predict probabilities for each class\n",
        "predicted_probabilities = model.predict(x_test)\n",
        "\n",
        "# Get the index of the highest probability for each sample\n"
      ],
      "metadata": {
        "colab": {
          "base_uri": "https://localhost:8080/"
        },
        "id": "oRw6wXlhUFOl",
        "outputId": "cd6a589d-69ab-4ead-95d4-23d0f04247b3"
      },
      "execution_count": null,
      "outputs": [
        {
          "output_type": "stream",
          "name": "stdout",
          "text": [
            "7/7 [==============================] - 0s 8ms/step\n"
          ]
        }
      ]
    },
    {
      "cell_type": "code",
      "source": [
        "predicted_classes = np.argmax(predicted_probabilities, axis=1)\n",
        "print(predicted_classes)"
      ],
      "metadata": {
        "colab": {
          "base_uri": "https://localhost:8080/"
        },
        "id": "k4Gb_G-BUFRz",
        "outputId": "d8b1b0a6-325c-4d17-a9c2-a0a1a9241632"
      },
      "execution_count": null,
      "outputs": [
        {
          "output_type": "stream",
          "name": "stdout",
          "text": [
            "[9 7 0 3 6 7 5 2 5 2 6 4 1 1 1 7 6 5 0 0 3 5 3 0 1 7 5 2 5 6 7 3 0 0 6 6 9\n",
            " 5 2 7 6 0 3 9 9 8 3 2 5 6 5 5 6 5 9 2 9 2 3 6 9 8 9 9 4 2 1 3 9 1 6 9 0 9\n",
            " 4 9 5 4 6 9 2 6 8 7 2 5 8 5 4 2 3 0 9 4 6 7 7 5 0 2 5 5 4 2 1 4 7 4 1 6 0\n",
            " 4 3 3 6 9 4 6 3 5 4 8 5 2 2 7 1 0 0 7 5 9 5 3 1 2 5 4 9 2 9 9 0 0 9 0 3 3\n",
            " 4 3 6 1 9 2 8 6 4 3 4 5 9 2 6 3 7 1 7 2 7 5 8 6 1 7 7 1 3 7 2 3 9 3 6 5 8\n",
            " 2 0 6 9 7 9 6 1 2 2 9 6 2 2 1]\n"
          ]
        }
      ]
    },
    {
      "cell_type": "code",
      "source": [
        "filename = '/content/drive/MyDrive/archive/Data/genres_original/classical/classical.00000.wav'\n",
        "audio, sample_rate = librosa.load(filename, res_type='kaiser_fast')\n",
        "mfccs_features = librosa.feature.mfcc(y=audio, sr=sample_rate, n_mfcc=40)\n",
        "mfccs_scaled_features = np.mean(mfccs_features.T, axis=0)\n",
        "\n",
        "mfccs_scaled_features = mfccs_scaled_features.reshape(1, -1)\n",
        "\n",
        "predicted_probabilities = model.predict(mfccs_scaled_features)\n",
        "predicted_class_index = np.argmax(predicted_probabilities, axis=1)\n",
        "\n",
        "print(\"Predicted class index:\", predicted_class_index)\n",
        "\n",
        "# Assuming you have labelencoder defined earlier\n",
        "predicted_class = label_encoder.inverse_transform(predicted_class_index)\n",
        "print(\"Predicted class:\", predicted_class)\n",
        "\n"
      ],
      "metadata": {
        "colab": {
          "base_uri": "https://localhost:8080/"
        },
        "id": "5HrLcWA1U0Be",
        "outputId": "c332a73a-8a60-4f42-a736-183deafea42a"
      },
      "execution_count": null,
      "outputs": [
        {
          "output_type": "stream",
          "name": "stdout",
          "text": [
            "1/1 [==============================] - 0s 50ms/step\n",
            "Predicted class index: [1]\n",
            "Predicted class: ['classical']\n"
          ]
        }
      ]
    },
    {
      "cell_type": "code",
      "source": [],
      "metadata": {
        "id": "Zq6hwUHIYJIj"
      },
      "execution_count": null,
      "outputs": []
    }
  ]
}